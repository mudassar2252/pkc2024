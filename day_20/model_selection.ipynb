{
 "cells": [
  {
   "cell_type": "markdown",
   "metadata": {},
   "source": [
    "# Best model selection "
   ]
  },
  {
   "cell_type": "code",
   "execution_count": 1,
   "metadata": {},
   "outputs": [
    {
     "name": "stderr",
     "output_type": "stream",
     "text": [
      "C:\\Users\\HP\\AppData\\Local\\Temp\\ipykernel_5904\\800634847.py:10: FutureWarning: A value is trying to be set on a copy of a DataFrame or Series through chained assignment using an inplace method.\n",
      "The behavior will change in pandas 3.0. This inplace method will never work because the intermediate object on which we are setting values always behaves as a copy.\n",
      "\n",
      "For example, when doing 'df[col].method(value, inplace=True)', try using 'df.method({col: value}, inplace=True)' or df[col] = df[col].method(value) instead, to perform the operation inplace on the original object.\n",
      "\n",
      "\n",
      "  X.age.fillna(value=X['age'].mean(),inplace=True)\n"
     ]
    },
    {
     "ename": "AttributeError",
     "evalue": "'str' object has no attribute 'fit'",
     "output_type": "error",
     "traceback": [
      "\u001b[1;31m---------------------------------------------------------------------------\u001b[0m",
      "\u001b[1;31mAttributeError\u001b[0m                            Traceback (most recent call last)",
      "Cell \u001b[1;32mIn[1], line 27\u001b[0m\n\u001b[0;32m     25\u001b[0m model_scores \u001b[38;5;241m=\u001b[39m []\n\u001b[0;32m     26\u001b[0m \u001b[38;5;28;01mfor\u001b[39;00m model, model_name \u001b[38;5;129;01min\u001b[39;00m \u001b[38;5;28mzip\u001b[39m (models_names, models):\n\u001b[1;32m---> 27\u001b[0m     \u001b[43mmodel\u001b[49m\u001b[38;5;241;43m.\u001b[39;49m\u001b[43mfit\u001b[49m(X_train,y_train)\n\u001b[0;32m     28\u001b[0m     y_pred \u001b[38;5;241m=\u001b[39m model\u001b[38;5;241m.\u001b[39mpredict(X_test)\n\u001b[0;32m     29\u001b[0m     precision \u001b[38;5;241m=\u001b[39m precision_score(y_test, y_pred)\n",
      "\u001b[1;31mAttributeError\u001b[0m: 'str' object has no attribute 'fit'"
     ]
    }
   ],
   "source": [
    "import pandas as pd \n",
    "import numpy as np \n",
    "import seaborn as sns \n",
    "import matplotlib.pyplot as plt \n",
    "df = sns.load_dataset('titanic')\n",
    "X = df[['age','sex','sibsp','pclass','fare','parch']]\n",
    "y = df['survived']\n",
    "# dummies ko label krna ko label coding kahty hai \n",
    "X = pd.get_dummies(X,columns=['sex'])\n",
    "X.age.fillna(value=X['age'].mean(),inplace=True)\n",
    "\n",
    "from sklearn.linear_model import LogisticRegression\n",
    "from sklearn.ensemble import RandomForestClassifier \n",
    "from sklearn.neighbors import KNeighborsClassifier   # knn \n",
    "from sklearn.tree import DecisionTreeClassifier  # descision tree \n",
    "from sklearn.svm import SVC  # support vector machine \n",
    "from sklearn.metrics import precision_score,recall_score,f1_score,accuracy_score\n",
    "from sklearn.model_selection import train_test_split\n",
    "\n",
    "X_train,X_test,y_train,y_test = train_test_split(X,y,test_size=0.2,random_state=42)  # assignment is mei random state kia hai aur is mei 42 kuen likha hai \n",
    "\n",
    "# yhan model btany hai hmny \n",
    "models = (LogisticRegression(),RandomForestClassifier(),KNeighborsClassifier(),DecisionTreeClassifier(),SVC())\n",
    "models_names = ['logistics regression', 'random forest','KNN','descision tree','svc']\n",
    "model_scores = []\n",
    "for model, model_name in zip (models_names, models):\n",
    "    model.fit(X_train,y_train)\n",
    "    y_pred = model.predict(X_test)\n",
    "    precision = precision_score(y_test, y_pred)\n",
    "    accuracy = accuracy_score(y_test, y_pred)\n",
    "    model_scores.append([model_name,accuracy])   # isi code ny inki accuracy check krni hai aur btana kah konsa model best hai \n",
    "\n",
    "sorted_model = sorted(model_scores, key=lambda x: x[1], reverse=True) # lambda  is liye use hota kah two lines mei lkhny ki bijay aik hi line mei likh dty hai \n",
    "for model in sorted_model:\n",
    "    print(\"accuracy score:\",f',{model[0]} : {model[1]:.2f}')\n",
    "# sorted ka mtlb hai kah higher sy lower ki trf sorted kr dena \n",
    "# isko one function bhi kahty hai lambda x: x[1] aur reduced coding bhi kahty hai \n",
    "# f ka functio ye kam krta hai kah hm different things ko aik hi mei run krwaty hai \n"
   ]
  },
  {
   "cell_type": "code",
   "execution_count": 2,
   "metadata": {},
   "outputs": [
    {
     "name": "stderr",
     "output_type": "stream",
     "text": [
      "C:\\Users\\HP\\AppData\\Local\\Temp\\ipykernel_5904\\2757598564.py:24: FutureWarning: A value is trying to be set on a copy of a DataFrame or Series through chained assignment using an inplace method.\n",
      "The behavior will change in pandas 3.0. This inplace method will never work because the intermediate object on which we are setting values always behaves as a copy.\n",
      "\n",
      "For example, when doing 'df[col].method(value, inplace=True)', try using 'df.method({col: value}, inplace=True)' or df[col] = df[col].method(value) instead, to perform the operation inplace on the original object.\n",
      "\n",
      "\n",
      "  X['age'].fillna(value=X['age'].mean(), inplace=True)\n"
     ]
    },
    {
     "name": "stdout",
     "output_type": "stream",
     "text": [
      "Accuracy score: Logistic Regression: 0.81\n",
      "Accuracy score: Random Forest: 0.80\n",
      "Accuracy score: Decision Tree: 0.75\n",
      "Accuracy score: KNN: 0.69\n",
      "Accuracy score: SVC: 0.66\n"
     ]
    }
   ],
   "source": [
    "import pandas as pd\n",
    "import numpy as np\n",
    "import seaborn as sns\n",
    "import matplotlib.pyplot as plt\n",
    "from sklearn.linear_model import LogisticRegression\n",
    "from sklearn.ensemble import RandomForestClassifier\n",
    "from sklearn.neighbors import KNeighborsClassifier  # KNN\n",
    "from sklearn.tree import DecisionTreeClassifier  # Decision Tree\n",
    "from sklearn.svm import SVC  # Support Vector Machine\n",
    "from sklearn.metrics import precision_score, accuracy_score\n",
    "from sklearn.model_selection import train_test_split\n",
    "\n",
    "# Load Titanic dataset\n",
    "df = sns.load_dataset('titanic')\n",
    "\n",
    "# Selecting features and target variable\n",
    "X = df[['age', 'sex', 'sibsp', 'pclass', 'fare', 'parch']]\n",
    "y = df['survived']\n",
    "\n",
    "# Handling categorical variables (Label Encoding using dummies)\n",
    "X = pd.get_dummies(X, columns=['sex'])\n",
    "\n",
    "# Filling missing values in 'age' column\n",
    "X['age'].fillna(value=X['age'].mean(), inplace=True)\n",
    "\n",
    "# Splitting data into training and testing sets\n",
    "X_train, X_test, y_train, y_test = train_test_split(X, y, test_size=0.2, random_state=42)\n",
    "\n",
    "# Models to evaluate\n",
    "models = [LogisticRegression(max_iter=1000), RandomForestClassifier(), KNeighborsClassifier(),\n",
    "          DecisionTreeClassifier(), SVC()]\n",
    "model_names = ['Logistic Regression', 'Random Forest', 'KNN', 'Decision Tree', 'SVC']\n",
    "model_scores = []\n",
    "\n",
    "# Training models and evaluating accuracy\n",
    "for model, model_name in zip(models, model_names):\n",
    "    model.fit(X_train, y_train)\n",
    "    y_pred = model.predict(X_test)\n",
    "    accuracy = accuracy_score(y_test, y_pred)\n",
    "    model_scores.append((model_name, accuracy))\n",
    "\n",
    "# Sorting models by accuracy\n",
    "sorted_models = sorted(model_scores, key=lambda x: x[1], reverse=True)\n",
    "\n",
    "# Displaying results\n",
    "for model in sorted_models:\n",
    "    print(f\"Accuracy score: {model[0]}: {model[1]:.2f}\")\n"
   ]
  },
  {
   "cell_type": "code",
   "execution_count": 5,
   "metadata": {},
   "outputs": [
    {
     "name": "stdout",
     "output_type": "stream",
     "text": [
      "Precision score: Logistic Regression: 0.80\n",
      "Precision score: Random Forest: 0.79\n",
      "Precision score: SVC: 0.76\n",
      "Precision score: Decision Tree: 0.71\n",
      "Precision score: KNN: 0.66\n"
     ]
    }
   ],
   "source": [
    "# Models to evaluate\n",
    "models = [LogisticRegression(max_iter=1000), RandomForestClassifier(), KNeighborsClassifier(),\n",
    "          DecisionTreeClassifier(), SVC()]\n",
    "model_names = ['Logistic Regression', 'Random Forest', 'KNN', 'Decision Tree', 'SVC']\n",
    "model_scores = []\n",
    "\n",
    "# Training models and evaluating accuracy\n",
    "for model, model_name in zip(models, model_names):\n",
    "    model.fit(X_train, y_train)\n",
    "    y_pred = model.predict(X_test)\n",
    "    Precision = precision_score(y_test, y_pred)\n",
    "    model_scores.append((model_name, Precision))\n",
    "\n",
    "# Sorting models by accuracy\n",
    "sorted_models = sorted(model_scores, key=lambda x: x[1], reverse=True)\n",
    "\n",
    "# Displaying results\n",
    "for model in sorted_models:\n",
    "    print(f\"Precision score: {model[0]}: {model[1]:.2f}\")"
   ]
  },
  {
   "cell_type": "markdown",
   "metadata": {},
   "source": [
    "# make account on kaggle "
   ]
  }
 ],
 "metadata": {
  "kernelspec": {
   "display_name": "Python 3",
   "language": "python",
   "name": "python3"
  },
  "language_info": {
   "codemirror_mode": {
    "name": "ipython",
    "version": 3
   },
   "file_extension": ".py",
   "mimetype": "text/x-python",
   "name": "python",
   "nbconvert_exporter": "python",
   "pygments_lexer": "ipython3",
   "version": "3.12.8"
  }
 },
 "nbformat": 4,
 "nbformat_minor": 2
}
