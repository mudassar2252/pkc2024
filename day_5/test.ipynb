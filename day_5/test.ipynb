{
 "cells": [
  {
   "cell_type": "markdown",
   "metadata": {},
   "source": [
    "Subject of this notebook is:\n",
    "Authored by: Mudassar\n",
    "Where to contact: email or wehave to give the link of the website\n",
    "here is the eplanation of notebook as a data scientist\n",
    "# most of time we use ipynb file to analyze data \n",
    "# benefits are that we can run a single cell of code and excecutr it as well as we can see the output of the cell in the same cell\n",
    "# and most important thind is that hw to run ipynb file and make pdf for assignments and projects"
   ]
  },
  {
   "cell_type": "code",
   "execution_count": null,
   "metadata": {},
   "outputs": [],
   "source": []
  },
  {
   "cell_type": "code",
   "execution_count": 1,
   "metadata": {},
   "outputs": [
    {
     "name": "stdout",
     "output_type": "stream",
     "text": [
      "mudassar\n"
     ]
    }
   ],
   "source": [
    "# code1\n",
    "print(\"mudassar\")\n"
   ]
  },
  {
   "cell_type": "markdown",
   "metadata": {},
   "source": [
    "opr waly cell mei aik string ko print kia gya hai "
   ]
  },
  {
   "cell_type": "markdown",
   "metadata": {},
   "source": [
    "is mei input ka function use kia gya hai "
   ]
  },
  {
   "cell_type": "code",
   "execution_count": 2,
   "metadata": {},
   "outputs": [
    {
     "name": "stdout",
     "output_type": "stream",
     "text": [
      "hello m how are you\n"
     ]
    },
    {
     "data": {
      "text/plain": [
       "7"
      ]
     },
     "execution_count": 2,
     "metadata": {},
     "output_type": "execute_result"
    }
   ],
   "source": [
    "# code 2\n",
    "name = input(\"what is your name\")\n",
    "print(\"hello\" , name , \"how are you\")\n",
    "3+4\n"
   ]
  },
  {
   "cell_type": "code",
   "execution_count": 3,
   "metadata": {},
   "outputs": [
    {
     "data": {
      "text/plain": [
       "15"
      ]
     },
     "execution_count": 3,
     "metadata": {},
     "output_type": "execute_result"
    }
   ],
   "source": [
    "\n",
    "3*5"
   ]
  },
  {
   "cell_type": "markdown",
   "metadata": {},
   "source": [
    "# ab hm variables ko deikhty hai kah wo kaisy run krty hai "
   ]
  },
  {
   "cell_type": "code",
   "execution_count": 4,
   "metadata": {},
   "outputs": [
    {
     "data": {
      "text/plain": [
       "('aloo', 'piyaz', 'dhania', 'maida')"
      ]
     },
     "execution_count": 4,
     "metadata": {},
     "output_type": "execute_result"
    }
   ],
   "source": [
    "samosa = (\"aloo\",\"piyaz\",\"dhania\",\"maida\")\n",
    "samosa"
   ]
  },
  {
   "cell_type": "markdown",
   "metadata": {},
   "source": [
    "in the next cell i am practicing a code by using if elif and else "
   ]
  },
  {
   "cell_type": "code",
   "execution_count": 5,
   "metadata": {},
   "outputs": [
    {
     "name": "stdout",
     "output_type": "stream",
     "text": [
      "business is not going well\n"
     ]
    }
   ],
   "source": [
    "profit =30\n",
    "if profit>= 80:\n",
    "    print(\"business is going well\")\n",
    "elif profit>=60:\n",
    "    print(\"business is going average\")\n",
    "else:\n",
    "    print(\"business is not going well\") "
   ]
  }
 ],
 "metadata": {
  "kernelspec": {
   "display_name": "Python 3",
   "language": "python",
   "name": "python3"
  },
  "language_info": {
   "codemirror_mode": {
    "name": "ipython",
    "version": 3
   },
   "file_extension": ".py",
   "mimetype": "text/x-python",
   "name": "python",
   "nbconvert_exporter": "python",
   "pygments_lexer": "ipython3",
   "version": "3.12.7"
  }
 },
 "nbformat": 4,
 "nbformat_minor": 2
}
