{
 "cells": [
  {
   "cell_type": "markdown",
   "metadata": {},
   "source": [
    "1 pandas (used for  data frame and to handle any type of data) ins\n",
    "2 numpy (for understanding the data) ins\n",
    "3 matplotlib (for making plots and graphs) ins\n",
    "4 seaborn (it is a visualization library based on matplotlib) ins\n",
    "5 scipy (for major anlysis of statistics) ins\n",
    "6 plotly (for making interacting plots,3d plots) ins\n",
    "7 scikit_learn (for machine learning and prediction learning)\n",
    "8 streamlit (for making dashboards)\n",
    "# ways to install libraries \n",
    "pip install name of library that you want to install\n",
    "we can innstall all libraries by using cmd or terminal or by writing in the cell as well\n",
    "\n"
   ]
  },
  {
   "cell_type": "code",
   "execution_count": 1,
   "metadata": {},
   "outputs": [],
   "source": [
    "import pandas as pd \n",
    "import numpy as np\n",
    "import matplotlib.pyplot as plt\n",
    "import plotly as px\n",
    "import seaborn as sns\n",
    " \n"
   ]
  },
  {
   "cell_type": "code",
   "execution_count": null,
   "metadata": {},
   "outputs": [],
   "source": [
    "# plotting\n",
    "sss"
   ]
  }
 ],
 "metadata": {
  "kernelspec": {
   "display_name": "tf_env",
   "language": "python",
   "name": "python3"
  },
  "language_info": {
   "codemirror_mode": {
    "name": "ipython",
    "version": 3
   },
   "file_extension": ".py",
   "mimetype": "text/x-python",
   "name": "python",
   "nbconvert_exporter": "python",
   "pygments_lexer": "ipython3",
   "version": "3.10.13"
  }
 },
 "nbformat": 4,
 "nbformat_minor": 2
}
