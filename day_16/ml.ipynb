{
 "cells": [
  {
   "cell_type": "code",
   "execution_count": null,
   "metadata": {},
   "outputs": [],
   "source": [
    "# data ko learn krny ko data science kahty hai \n",
    "# aur us sy agy future prediction krna ye ml hai \n",
    "# data driven and then making descision \n",
    "# machine learning vs deep learning and artificial intelligence mei kia difference hai ?\n",
    "# data driven is training and descision making is prediction \n",
    "# data clean krny ky bad model train krna hai \n",
    "# data \n",
    "# training \n",
    "# modeling \n",
    "# final output \n",
    "# us ys agy prediction krni prti hai "
   ]
  },
  {
   "cell_type": "markdown",
   "metadata": {},
   "source": [
    "# Types of Machine Learning \n",
    "1. Supervised machine learning\n",
    "2. Unsupervised machine learning\n",
    "3. Semi-supervised  learning\n",
    "4. Reinforcement  Learning"
   ]
  },
  {
   "cell_type": "code",
   "execution_count": null,
   "metadata": {},
   "outputs": [],
   "source": [
    "# sb sy ziada use hony wali type supervised machine learning hai \n",
    "# agr aik ghr ki qimat 1m aur zahri si bat hai kah agy bhi itni hi hogi jo agly sale ho gy to ye supervised machine learning(regrssion) hai \n",
    "# supervised machine learning( classification)\n",
    "# regression tb honi hai jb dono numeric values ho \n",
    "# classification tb honi hai jb dono values categorical ho aur alphabet\n",
    "# on google ther are 1.98 billion websites that ranked on google "
   ]
  },
  {
   "cell_type": "code",
   "execution_count": null,
   "metadata": {},
   "outputs": [],
   "source": [
    "# category wise jb un ki basis pr alg ho jati hai aur apna specific category mei group bnati hai to usko Cluster machine learning kahty  hai aur ye un-supervised learning hai \n",
    "# everything is categorized on basis of the what they've \n",
    "# ml tb hoti hai jb hm usko data dety hai kuc ko label lga dety hai aur phir wo train ho kr batata hai kah kia kia hai \n",
    "# agr kuc ko label dy dein aur kuch ko na dein to partial semi-supervised leaning hogi "
   ]
  },
  {
   "cell_type": "markdown",
   "metadata": {},
   "source": [
    "# Reinforcement learning\n",
    "1. ye saza or jaza ki base pr rhoti hai \n",
    "# Scikit-learn used for machine learning "
   ]
  },
  {
   "cell_type": "code",
   "execution_count": null,
   "metadata": {},
   "outputs": [],
   "source": [
    "# machine lerning ka dataset two things mei divide hota hau X aur Y \n",
    "# x bra hota hai aur Y chota hota hai \n",
    "# x ko hm 3,4 nam dety hai input, feature,\n",
    "# x ky aik sy ziada column ho skty hai \n",
    "# y ko label ya output kahty hai\n",
    "# jo bhui predict krna hai hmny wo y sy kren gy \n",
    "# quetion mark y ky ag aye ga  "
   ]
  },
  {
   "cell_type": "markdown",
   "metadata": {},
   "source": [
    "# aik dataset mei features aur labels ko aur kia kia kahty hai "
   ]
  },
  {
   "cell_type": "code",
   "execution_count": null,
   "metadata": {},
   "outputs": [],
   "source": [
    "# x ko define krty hai hum \n",
    "# y ka bra hissa lety hai jisko training data kahty hai \n",
    "# phir y ka chta hissa lety hai jisko testing data kahty hai\n",
    "# in machine learning people take 70% to 85% data for training and 15% to 30% data for testing\n",
    "# best data is from 75% to 80%\n",
    "# testing data may be 20,25, 30\\\n",
    "# this ius called data split an dfunction called train test split "
   ]
  },
  {
   "cell_type": "markdown",
   "metadata": {},
   "source": [
    "# Steps for machine learning "
   ]
  },
  {
   "cell_type": "code",
   "execution_count": null,
   "metadata": {},
   "outputs": [],
   "source": [
    "# import libraries \n",
    "from sklearn.linear_model import LinearRegression \n",
    "# import data \n",
    "# sklearn ky dataset ko bhiexplor kra hai assignment mei \n"
   ]
  },
  {
   "cell_type": "markdown",
   "metadata": {},
   "source": [
    "# why boston dataset is removed from scikit learn library "
   ]
  }
 ],
 "metadata": {
  "language_info": {
   "name": "python"
  }
 },
 "nbformat": 4,
 "nbformat_minor": 2
}
