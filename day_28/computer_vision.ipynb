{
 "cells": [
  {
   "cell_type": "markdown",
   "metadata": {},
   "source": [
    "# Computer Vision"
   ]
  },
  {
   "cell_type": "code",
   "execution_count": null,
   "metadata": {},
   "outputs": [],
   "source": [
    "# our all automation is done through this and this is used in cameras that can detest the speed of cars \n",
    "# in tesla sensor system is used by which it drives automatically \n"
   ]
  },
  {
   "cell_type": "markdown",
   "metadata": {},
   "source": [
    "# Intro to images "
   ]
  },
  {
   "cell_type": "markdown",
   "metadata": {},
   "source": [
    "1- pixel is the basic unit of image\\\n",
    "2- pixels are the building blocks of the image\\\n",
    "3- there are two types of colors \n",
    " 1. RGB \n",
    " + primary colors are red green and blue\n",
    " 2. CMY\n",
    " +  secondary colors are cyan magenta and yellow\\\n",
    "4- if a image have more pixels it's quality and resolution will be more\n",
    "> Types of screens   \n",
    "> 4:3   \n",
    "> 16:9   \n",
    "> VGA have size 640,768     \n",
    "> SXGA have size 1280,1024    \n",
    "> HDTV have size 1920,1080         \n",
    "\n",
    "5- 4k have 180PPI and HD have 92PPI \n",
    "> Bits or Bits Depth    \n",
    "+ Bit Depth is determined by the number of bits used to define each pixel. The greater bit depth the greator number of colors. Digital images may be produced in black or white.\n",
    ">Black and White image    \n",
    "+ Binary Levels \n",
    "   + Black = 0\n",
    "   + White  = 1\n",
    "+ Whole ML with tensorflow is in the basis of this image analysis\n",
    "   + in 2 bits there are 4 combination and 256 tones  \n",
    "> Grey Scale   \n",
    "* Multi Levels\n",
    "  * Black = 0\n",
    "  * Grey = 1-255 \n",
    "  * 254 shades of Grey\n",
    "  * White = 256\n",
    "> Color Image  \n",
    "+ A color image is typically represented a bit depth ranging from 8 to 24. A 24 bit image offers 16.7 million colors values.\n",
    "+ 3 kinds of images \n",
    "  + Bitonal, greyscale and BGR\n",
    "> no of bits in an image \n",
    " +  1 bit = 2 tones \n",
    " +  2 bits = 4 tones \n",
    " +  3 bits = 8 tones \n",
    " +  4 bits = 16 tones \n",
    " +  8 bits = 256 tones \n",
    " +  16 bits = 65,536 tones \n",
    " +  24 bit = 16.7 million tones "
   ]
  },
  {
   "cell_type": "markdown",
   "metadata": {},
   "source": [
    "# Intro to Video\n",
    "+ sequence of images \n",
    "+ Frame pr second (Fps) unit of video\n",
    "+ dimension of video is 2k, 4k...\n",
    "+ slomo 120Fps\n",
    "+ we have to convert original fps if we capture picture at 60fps and play at 15fps it will be motion blurry \n",
    "+ detecting images is similar to video "
   ]
  }
 ],
 "metadata": {
  "kernelspec": {
   "display_name": "tf_env",
   "language": "python",
   "name": "python3"
  },
  "language_info": {
   "name": "python",
   "version": "3.9.21"
  }
 },
 "nbformat": 4,
 "nbformat_minor": 2
}
