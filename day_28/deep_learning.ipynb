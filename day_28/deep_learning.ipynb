{
 "cells": [
  {
   "cell_type": "markdown",
   "metadata": {},
   "source": [
    "# Deep Learning \n",
    "+ deep learning importances vary from healthcare to marketing \n",
    "+ and from facial recognition to speech recognition \n",
    "+ deep learning is the functional unit of deep learning \n",
    "+ Deep learning is the subset of machine learning and machine learning is the subset of artificial intelligence\n",
    "+ and artificial intelligence is the subset of computer science algorithms \n",
    "  > How computer figure out things?\n",
    "    + We give alot of data \n",
    "    + Computer learns the patterns \n",
    "    + Classify based on patterns, if that is shoe, shirt....\n",
    "# What is mnist?\n",
    "+ 10 categories \n",
    "+ 70k images \n",
    "+ 28 by 28 \n",
    "+ 1 byte pr pixel \n",
    "+ Images are in greyscale\n",
    "> numbering is important in as it's easy to code and no language barrier and biasness \n",
    "> How neural network work, you cannot do it yourself that NN do for you and it's complex and hard to understand\n"
   ]
  },
  {
   "cell_type": "code",
   "execution_count": 11,
   "metadata": {},
   "outputs": [],
   "source": [
    "import tensorflow as tf \n",
    "fmnist = tf.keras.datasets.fashion_mnist\n",
    "(training_images,training_labels),(test_images,test_labels) = fmnist.load_data()\n",
    "\n",
    "\n"
   ]
  },
  {
   "cell_type": "code",
   "execution_count": 8,
   "metadata": {},
   "outputs": [
    {
     "name": "stdout",
     "output_type": "stream",
     "text": [
      "2.18.0\n"
     ]
    }
   ],
   "source": [
    "print(tf.__version__)  \n"
   ]
  },
  {
   "cell_type": "code",
   "execution_count": 13,
   "metadata": {},
   "outputs": [
    {
     "name": "stdout",
     "output_type": "stream",
     "text": [
      "Label: 4\n",
      "Pixel array: \n",
      "[[  0   0   1   0   0   0   1   0   0   0  36 137  59  43  24  24  44 107 102   0   0   0   2   0   0   1   0   0]\n",
      " [  0   0   1   0   0   1   1   0 145 151  57 240 188 194 211 204 205 189 243  59   4   0   0   1   0   1   0   0]\n",
      " [  0   0   0   0   0   4   0  37 243  72   0 208 210 178 162 149 161 199 138  56 200 207   6   0   2   0   0   0]\n",
      " [  0   0   0   0   3   0   0 133 205 175 179 168 192 192 162 156 185 215 175 176 169 217  34   0   8   4   1   0]\n",
      " [  0   0   0   2   0   7 145 182 205 218 242 225 221 230 119 160 221 216 255 235 231 227  60   0   2   1   1   0]\n",
      " [  0   0   1   0   0 182 176 136 129 141 190 202 197 204 147 188 186 179 166 157 153 162 204  89   0   0   0   0]\n",
      " [  0   0   3   0  89 206 159 151 179 141 128 137 133 156 160 151 134 147 143 153 145 168 166 230  24   0   1   0]\n",
      " [  0   0   3   0 176 199 198 156 161 171 148 149 158 155 143 157 161 155 155 167 160 196 180 217 135   0   1   0]\n",
      " [  0   0   0   4 177 196 209 170 157 160 149 155 154 167  96 157 155 151 166 158 160 208 211 206 180   0   4   0]\n",
      " [  0   0   0  45 200 182 215 191 160 165 146 147 155 172  97 169 167 177 164 168 179 225 213 194 223   0   0   0]\n",
      " [  0   0   0  99 198 180 199 192 161 182 153 157 157 168 107 177 169 164 161 168 192 229 213 195 209  23   0   0]\n",
      " [  0   0   0 164 184 188 202 217 196 171 166 164 165 172 138 178 155 151 188 189 205 227 222 198 201  62   0   0]\n",
      " [  0   0   0 200 172 194 212 216 195 174 180 166 186 174 135 188 162 194 204 205 207 223 229 195 196 102   0   0]\n",
      " [  0   0   1 211 169 191 218 210 204 196 172 200 179 172 116 186 180 190 197 208 202 236 222 191 206 155   0   0]\n",
      " [  0   0   8 217 167 186 219 212 205 195 204 176 177 172 146 177 174 174 188 197 192 233 226 190 202 178   0   0]\n",
      " [  0   0  29 219 166 178 222 217 197 200 177 160 184 186 164 195 166 179 186 191 201 237 223 189 196 204   0   0]\n",
      " [  0   0  52 221 167 176 227 222 198 204 177 191 197 177 158 209 188 168 192 194 199 236 213 185 195 217   0   0]\n",
      " [  0   0  78 220 169 174 230 221 200 198 199 209 180 178 150 188 211 192 199 195 190 231 215 181 196 220   0   0]\n",
      " [  0   0  94 216 170 167 225 226 198 209 204 182 180 177 166 187 187 207 200 200 199 232 216 179 195 222   0   0]\n",
      " [  0   0 103 213 172 169 223 237 204 209 202 189 188 190 161 199 190 189 200 204 208 233 212 180 194 226   0   0]\n",
      " [  0   0 113 209 169 172 221 235 199 209 205 192 199 175 158 198 197 209 210 202 202 233 217 189 202 230   0   0]\n",
      " [  0   0 117 202 174 190 229 232 204 210 212 200 202 179 145 196 172 190 212 202 201 233 216 201 212 229   0   0]\n",
      " [  0   0 104 221 160 198 232 226 198 212 211 204 192 175 156 209 200 194 197 209 207 227 213 207 212 235   0   0]\n",
      " [  0   0  63 221 184 199 200 207 212 208 201 189 198 194 156 201 190 184 197 200 213 230 225 205 220 197   0   0]\n",
      " [  0   0  18 215 218 223 169 162 215 210 202 205 188 181 166 194 198 191 201 213 215 180 235 226 231 138   0   0]\n",
      " [  0   0  13 201 168 198 128 198 211 207 205 209 201 174 147 212 180 212 213 210 215 148 167 171 164  58   0   0]\n",
      " [  0   0   0   0   0   0   0 237 237 225 217 200 209 192 164 207 204 205 210 220 249 149   0   0   0   0   5   0]\n",
      " [  0   0   0   0   3   1   0  28 103 144 170 169 171 151 153 186 177 174 158 129 120  48   0   4   2   3   0   0]]\n"
     ]
    },
    {
     "data": {
      "text/plain": [
       "<matplotlib.image.AxesImage at 0x1482b7daa90>"
      ]
     },
     "execution_count": 13,
     "metadata": {},
     "output_type": "execute_result"
    },
    {
     "data": {
      "image/png": "[encoded data removed]",
      "text/plain": [
       "<Figure size 640x480 with 1 Axes>"
      ]
     },
     "metadata": {},
     "output_type": "display_data"
    }
   ],
   "source": [
    "import numpy as np \n",
    "import matplotlib.pyplot as plt \n",
    "# we can put between 0 to 59999\n",
    "index =555\n",
    "# set the number of chracters pr row when printing \n",
    "np.set_printoptions(linewidth=350)\n",
    "# print the label of the image\n",
    "print(f'Label: {training_labels[index]}')\n",
    "# print the pixel array of the image\n",
    "print(f'Pixel array: \\n{training_images[index]}')\n",
    "# print the image\n",
    "plt.imshow(training_images[index])"
   ]
  },
  {
   "cell_type": "code",
   "execution_count": 14,
   "metadata": {},
   "outputs": [],
   "source": [
    "# normalize the pixel values of trianing and test images\n",
    "training_images = training_images/255.0\n",
    "test_images = test_images/255.0"
   ]
  },
  {
   "cell_type": "code",
   "execution_count": 15,
   "metadata": {},
   "outputs": [],
   "source": [
    "# build classificaiton model\n",
    "model = tf.keras.models.Sequential([tf.keras.layers.Flatten(),\n",
    "                                    tf.keras.layers.Dense(128,activation=tf.nn.relu),\n",
    "                                    tf.keras.layers.Dense(10,activation=tf.nn.softmax)])"
   ]
  },
  {
   "cell_type": "code",
   "execution_count": null,
   "metadata": {},
   "outputs": [],
   "source": [
    "# declare sample input and convert onto tensor\n",
    "inputs = np.arrary([[1.0,3.0,2.0,4.0]])  \n",
    "inputs = tf.convert_to_tensor(inputs)         \n",
    "print(f'input to softmax function: {inputs.numpy()}')                                           "
   ]
  }
 ],
 "metadata": {
  "kernelspec": {
   "display_name": "tf_env",
   "language": "python",
   "name": "python3"
  },
  "language_info": {
   "codemirror_mode": {
    "name": "ipython",
    "version": 3
   },
   "file_extension": ".py",
   "mimetype": "text/x-python",
   "name": "python",
   "nbconvert_exporter": "python",
   "pygments_lexer": "ipython3",
   "version": "3.9.21"
  }
 },
 "nbformat": 4,
 "nbformat_minor": 2
}
