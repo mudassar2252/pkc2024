{
 "cells": [
  {
   "cell_type": "markdown",
   "metadata": {},
   "source": [
    "# Data Visualization Theory \n",
    "Written By: Mudassar\\\n",
    "Email: info@codanics.com"
   ]
  },
  {
   "cell_type": "markdown",
   "metadata": {},
   "source": [
    "While doig data visualization we've to keep inmind that what type of data we've. And how we're going to plot it.In order to visualize a dat we've some techniques that we'll see in below. And we visulize data in form of plots or graphs.\\\n",
    "**Horizontal line is called x-axis\\\n",
    "Vertical line is called y-axis**\\\n",
    "**Plot is the combination of x-axis  and y-axis.\\\n",
    "While makig a plot we've to keep in mind that on x-axis and y-axis we take things in their units.\\\n",
    "For Exampl\\\n",
    "if we plot food on x-axis and  weight on y-axis we take units like food in grams(g) and weight in kilogram(kg**).\n"
   ]
  },
  {
   "cell_type": "markdown",
   "metadata": {},
   "source": [
    "# Types of Plots \n",
    "**1: Scatter Plot**\\\n",
    "It is in the form of the dots\\\n",
    "**2: Bar Plot**\\\n",
    "It is in the form of lines that we draw.\\\n",
    "**3: Box Plot**\\\n",
    "It is in the form of a box\\\n",
    "**4: Line Plot**\\\n",
    " It is in the form of a line\\\n",
    " **5: Histogram Plot**\\\n",
    " It is in the form of bars\\\n",
    " **6: Bell Curve Plot**\\\n",
    " It is in the form of a curve and draw mostly on histograms to check normality of data.\\\n",
    " **We can also do plotting in the form of the Maps.**\n"
   ]
  },
  {
   "cell_type": "markdown",
   "metadata": {},
   "source": [
    "**7: Stacked Bar Plot**\\\n",
    "A stacked bar plot is a type of bar plot where the bars are stacked on top of each other.\\\n",
    "**8: Pie Chart Plot**\\\n",
    " It is in the form of a circle and draw mostly on bar plots to check proportions of data.\\\n",
    " **9: Pair Plot**\\\n",
    " It is used to visualize the relationship between two variables. It is a scatter plot matrix. It is used to check the correlation between variables.\n",
    "\n"
   ]
  }
 ],
 "metadata": {
  "language_info": {
   "name": "python"
  }
 },
 "nbformat": 4,
 "nbformat_minor": 2
}
