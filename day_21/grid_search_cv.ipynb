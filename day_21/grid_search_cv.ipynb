{
 "cells": [
  {
   "cell_type": "code",
   "execution_count": 21,
   "metadata": {},
   "outputs": [],
   "source": [
    "import pandas as pd \n",
    "import numpy as np \n",
    "import seaborn as sns\n",
    "import matplotlib.pyplot as plt "
   ]
  },
  {
   "cell_type": "code",
   "execution_count": 22,
   "metadata": {},
   "outputs": [
    {
     "name": "stdout",
     "output_type": "stream",
     "text": [
      "{'copy_X': True, 'fit_intercept': True, 'n_jobs': None, 'positive': False}\n"
     ]
    }
   ],
   "source": [
    "from sklearn.linear_model import LinearRegression\n",
    "model = LinearRegression() \n",
    "\n",
    "# get the paprameters list \n",
    "print(model.get_params())"
   ]
  },
  {
   "cell_type": "code",
   "execution_count": 23,
   "metadata": {},
   "outputs": [],
   "source": [
    "# ye upr jo parameters ki list hai ye aik dictionary tyep hai is mei aik name hai aur aik uaki value hai \n",
    "# ye four parameters hai scikit learn ki library mei linear regression ky \n",
    "# hm in parameters ko deikh  kr kisi bhi model ki efficeincy ko improve kr skty hai \n",
    "# same way we'll use to see parameters of another model  \n",
    "# ab hm isi trha sy jo classifer ky model kiye haiunky parameters ko deikhty hai "
   ]
  },
  {
   "cell_type": "code",
   "execution_count": 24,
   "metadata": {},
   "outputs": [
    {
     "name": "stdout",
     "output_type": "stream",
     "text": [
      "{'bootstrap': True, 'ccp_alpha': 0.0, 'class_weight': None, 'criterion': 'gini', 'max_depth': None, 'max_features': 'sqrt', 'max_leaf_nodes': None, 'max_samples': None, 'min_impurity_decrease': 0.0, 'min_samples_leaf': 1, 'min_samples_split': 2, 'min_weight_fraction_leaf': 0.0, 'monotonic_cst': None, 'n_estimators': 100, 'n_jobs': None, 'oob_score': False, 'random_state': None, 'verbose': 0, 'warm_start': False}\n"
     ]
    }
   ],
   "source": [
    "from sklearn.ensemble import RandomForestClassifier\n",
    "model = RandomForestClassifier() \n",
    "\n",
    "# get the paprameters list \n",
    "print(model.get_params())"
   ]
  },
  {
   "cell_type": "code",
   "execution_count": 25,
   "metadata": {},
   "outputs": [
    {
     "name": "stdout",
     "output_type": "stream",
     "text": [
      "{'C': 1.0, 'break_ties': False, 'cache_size': 200, 'class_weight': None, 'coef0': 0.0, 'decision_function_shape': 'ovr', 'degree': 3, 'gamma': 'scale', 'kernel': 'rbf', 'max_iter': -1, 'probability': False, 'random_state': None, 'shrinking': True, 'tol': 0.001, 'verbose': False}\n"
     ]
    }
   ],
   "source": [
    "from sklearn.svm import SVC\n",
    "model =  SVC()\n",
    "print(model.get_params())"
   ]
  },
  {
   "cell_type": "code",
   "execution_count": 26,
   "metadata": {},
   "outputs": [
    {
     "name": "stdout",
     "output_type": "stream",
     "text": [
      "{'C': 1.0, 'class_weight': None, 'dual': False, 'fit_intercept': True, 'intercept_scaling': 1, 'l1_ratio': None, 'max_iter': 100, 'multi_class': 'deprecated', 'n_jobs': None, 'penalty': 'l2', 'random_state': None, 'solver': 'lbfgs', 'tol': 0.0001, 'verbose': 0, 'warm_start': False}\n"
     ]
    }
   ],
   "source": [
    "from sklearn.linear_model import LogisticRegression\n",
    "model = LogisticRegression()\n",
    "print(model.get_params())"
   ]
  },
  {
   "cell_type": "code",
   "execution_count": 27,
   "metadata": {},
   "outputs": [
    {
     "name": "stdout",
     "output_type": "stream",
     "text": [
      "{'algorithm': 'auto', 'leaf_size': 30, 'metric': 'minkowski', 'metric_params': None, 'n_jobs': None, 'n_neighbors': 5, 'p': 2, 'weights': 'uniform'}\n"
     ]
    }
   ],
   "source": [
    "from sklearn.neighbors import KNeighborsClassifier\n",
    "model = KNeighborsClassifier()\n",
    "print(model.get_params())\n",
    "# ab hm in parameters ki practice krty hai "
   ]
  },
  {
   "cell_type": "markdown",
   "metadata": {},
   "source": [
    "# model ko zra complex krny ky liye hm is mei gridsearch cv use krty hai "
   ]
  },
  {
   "cell_type": "code",
   "execution_count": 28,
   "metadata": {},
   "outputs": [
    {
     "name": "stderr",
     "output_type": "stream",
     "text": [
      "C:\\Users\\HP\\AppData\\Local\\Temp\\ipykernel_6992\\1895153270.py:6: FutureWarning: A value is trying to be set on a copy of a DataFrame or Series through chained assignment using an inplace method.\n",
      "The behavior will change in pandas 3.0. This inplace method will never work because the intermediate object on which we are setting values always behaves as a copy.\n",
      "\n",
      "For example, when doing 'df[col].method(value, inplace=True)', try using 'df.method({col: value}, inplace=True)' or df[col] = df[col].method(value) instead, to perform the operation inplace on the original object.\n",
      "\n",
      "\n",
      "  X.age.fillna(value=X['age'].mean(),inplace=True)\n",
      "C:\\Users\\HP\\AppData\\Local\\Temp\\ipykernel_6992\\1895153270.py:6: SettingWithCopyWarning: \n",
      "A value is trying to be set on a copy of a slice from a DataFrame\n",
      "\n",
      "See the caveats in the documentation: https://pandas.pydata.org/pandas-docs/stable/user_guide/indexing.html#returning-a-view-versus-a-copy\n",
      "  X.age.fillna(value=X['age'].mean(),inplace=True)\n"
     ]
    },
    {
     "name": "stdout",
     "output_type": "stream",
     "text": [
      "best parameters: {'fit_intercept': True}\n"
     ]
    }
   ],
   "source": [
    "import pandas as pd\n",
    "import seaborn as sns \n",
    "df = sns.load_dataset(\"titanic\")\n",
    "X = df[['age']]\n",
    "y = df['fare']\n",
    "X.age.fillna(value=X['age'].mean(),inplace=True)\n",
    "from sklearn.linear_model import LinearRegression \n",
    "\n",
    "model = LinearRegression()\n",
    "from sklearn.model_selection import GridSearchCV\n",
    "\n",
    "param_grid = {'fit_intercept': [True, False]}\n",
    "\n",
    "grid = GridSearchCV(model, param_grid, cv=5,scoring='r2')\n",
    "\n",
    "grid.fit(X, y)\n",
    "\n",
    "print(\"best parameters:\",grid.best_params_)\n"
   ]
  },
  {
   "cell_type": "markdown",
   "metadata": {},
   "source": [
    "# ab same exampe ko hm knn model pr lety hai "
   ]
  },
  {
   "cell_type": "markdown",
   "metadata": {},
   "source": [
    "# KNN gridsearchCV"
   ]
  },
  {
   "cell_type": "code",
   "execution_count": 29,
   "metadata": {},
   "outputs": [
    {
     "data": {
      "text/plain": [
       "Index(['survived', 'pclass', 'sex', 'age', 'sibsp', 'parch', 'fare',\n",
       "       'embarked', 'class', 'who', 'adult_male', 'deck', 'embark_town',\n",
       "       'alive', 'alone'],\n",
       "      dtype='object')"
      ]
     },
     "execution_count": 29,
     "metadata": {},
     "output_type": "execute_result"
    }
   ],
   "source": [
    "df.columns\n",
    "# scoring ka mtlb ye hai kah kis parameter ki base pr hmny best score lena hai "
   ]
  },
  {
   "cell_type": "code",
   "execution_count": 34,
   "metadata": {},
   "outputs": [
    {
     "name": "stderr",
     "output_type": "stream",
     "text": [
      "C:\\Users\\HP\\AppData\\Local\\Temp\\ipykernel_6992\\1550355512.py:6: FutureWarning: A value is trying to be set on a copy of a DataFrame or Series through chained assignment using an inplace method.\n",
      "The behavior will change in pandas 3.0. This inplace method will never work because the intermediate object on which we are setting values always behaves as a copy.\n",
      "\n",
      "For example, when doing 'df[col].method(value, inplace=True)', try using 'df.method({col: value}, inplace=True)' or df[col] = df[col].method(value) instead, to perform the operation inplace on the original object.\n",
      "\n",
      "\n",
      "  X.age.fillna(value=X['age'].mean(),inplace=True)\n",
      "C:\\Users\\HP\\AppData\\Local\\Temp\\ipykernel_6992\\1550355512.py:6: SettingWithCopyWarning: \n",
      "A value is trying to be set on a copy of a slice from a DataFrame\n",
      "\n",
      "See the caveats in the documentation: https://pandas.pydata.org/pandas-docs/stable/user_guide/indexing.html#returning-a-view-versus-a-copy\n",
      "  X.age.fillna(value=X['age'].mean(),inplace=True)\n"
     ]
    },
    {
     "name": "stdout",
     "output_type": "stream",
     "text": [
      "best parameters: {'n_neighbors': np.int64(27), 'weights': 'uniform'}\n",
      "best score: 0.6727298067785874\n"
     ]
    }
   ],
   "source": [
    "import pandas as pd\n",
    "import seaborn as sns \n",
    "df = sns.load_dataset(\"titanic\")\n",
    "X = df[['pclass', 'sex', 'age', 'sibsp', 'parch', 'fare']]\n",
    "y = df['survived']\n",
    "X.age.fillna(value=X['age'].mean(),inplace=True)\n",
    "X = pd.get_dummies(X, columns=['sex'])\n",
    "from sklearn.neighbors import KNeighborsClassifier\n",
    "\n",
    "model = KNeighborsClassifier()\n",
    "from sklearn.model_selection import GridSearchCV\n",
    "# bar bar is mei neighbors likhny ki bjY HM IS MEI NUMPY KO INSTALL KR KAH RANGE LGA SKTY HAI \n",
    "import numpy as np \n",
    "\n",
    "param_grid = {'n_neighbors': np.arange(1,30,2),'weights': ['uniform','distance']}\n",
    "# data ka hmny one to five percent lena hai range mei \n",
    "# and we use odd numbers in this so that we may know that which one is best for classification \n",
    "\n",
    "grid = GridSearchCV(model, param_grid, cv=5,scoring='precision')\n",
    "# is mei scoring ka isi trha sy hm preision, recall  aur sb check kr skty hai \n",
    "\n",
    "grid.fit(X, y)\n",
    "\n",
    "print(\"best parameters:\",grid.best_params_)\n",
    "print(\"best score:\",grid.best_score_)\n",
    "# this is the way by which we can see improve accuracy by using multiple things \n",
    "# aur is mei hm neighbors mei range lga dety hai \n"
   ]
  },
  {
   "cell_type": "markdown",
   "metadata": {},
   "source": [
    "# now we're going to do same thing on the descision tree "
   ]
  },
  {
   "cell_type": "code",
   "execution_count": 33,
   "metadata": {},
   "outputs": [
    {
     "name": "stdout",
     "output_type": "stream",
     "text": [
      "{'ccp_alpha': 0.0, 'class_weight': None, 'criterion': 'gini', 'max_depth': None, 'max_features': None, 'max_leaf_nodes': None, 'min_impurity_decrease': 0.0, 'min_samples_leaf': 1, 'min_samples_split': 2, 'min_weight_fraction_leaf': 0.0, 'monotonic_cst': None, 'random_state': None, 'splitter': 'best'}\n"
     ]
    }
   ],
   "source": [
    "from sklearn.tree import DecisionTreeClassifier\n",
    "model = DecisionTreeClassifier() \n",
    "\n",
    "# get the paprameters list \n",
    "print(model.get_params())"
   ]
  },
  {
   "cell_type": "code",
   "execution_count": 35,
   "metadata": {},
   "outputs": [
    {
     "name": "stderr",
     "output_type": "stream",
     "text": [
      "C:\\Users\\HP\\AppData\\Local\\Temp\\ipykernel_6992\\1745944756.py:6: FutureWarning: A value is trying to be set on a copy of a DataFrame or Series through chained assignment using an inplace method.\n",
      "The behavior will change in pandas 3.0. This inplace method will never work because the intermediate object on which we are setting values always behaves as a copy.\n",
      "\n",
      "For example, when doing 'df[col].method(value, inplace=True)', try using 'df.method({col: value}, inplace=True)' or df[col] = df[col].method(value) instead, to perform the operation inplace on the original object.\n",
      "\n",
      "\n",
      "  X.age.fillna(value=X['age'].mean(),inplace=True)\n",
      "C:\\Users\\HP\\AppData\\Local\\Temp\\ipykernel_6992\\1745944756.py:6: SettingWithCopyWarning: \n",
      "A value is trying to be set on a copy of a slice from a DataFrame\n",
      "\n",
      "See the caveats in the documentation: https://pandas.pydata.org/pandas-docs/stable/user_guide/indexing.html#returning-a-view-versus-a-copy\n",
      "  X.age.fillna(value=X['age'].mean(),inplace=True)\n"
     ]
    },
    {
     "name": "stdout",
     "output_type": "stream",
     "text": [
      "best parameters: {'max_depth': 7, 'min_samples_split': 3}\n",
      "best score: 0.8203843687631455\n"
     ]
    }
   ],
   "source": [
    "import pandas as pd\n",
    "import seaborn as sns \n",
    "df = sns.load_dataset(\"titanic\")\n",
    "X = df[['pclass', 'sex', 'age', 'sibsp', 'parch', 'fare']]\n",
    "y = df['survived']\n",
    "X.age.fillna(value=X['age'].mean(),inplace=True)\n",
    "X = pd.get_dummies(X, columns=['sex'])\n",
    "from sklearn.tree import DecisionTreeClassifier\n",
    "\n",
    "model = DecisionTreeClassifier()\n",
    "from sklearn.model_selection import GridSearchCV\n",
    "# bar bar is mei neighbors likhny ki bjY HM IS MEI NUMPY KO INSTALL KR KAH RANGE LGA SKTY HAI \n",
    "import numpy as np \n",
    "\n",
    "param_grid = {'min_samples_split':[2,3,4],'max_depth':[3,5,7]}\n",
    "# data ka hmny one to five percent lena hai range mei \n",
    "# and we use odd numbers in this so that we may know that which one is best for classification \n",
    "\n",
    "grid = GridSearchCV(model, param_grid, cv=5,scoring='precision')\n",
    "# is mei scoring ka isi trha sy hm preision, recall  aur sb check kr skty hai \n",
    "\n",
    "grid.fit(X, y)\n",
    "\n",
    "print(\"best parameters:\",grid.best_params_)\n",
    "print(\"best score:\",grid.best_score_)"
   ]
  },
  {
   "cell_type": "code",
   "execution_count": 2,
   "metadata": {},
   "outputs": [
    {
     "name": "stderr",
     "output_type": "stream",
     "text": [
      "C:\\Users\\HP\\AppData\\Local\\Temp\\ipykernel_5948\\3228998420.py:6: FutureWarning: A value is trying to be set on a copy of a DataFrame or Series through chained assignment using an inplace method.\n",
      "The behavior will change in pandas 3.0. This inplace method will never work because the intermediate object on which we are setting values always behaves as a copy.\n",
      "\n",
      "For example, when doing 'df[col].method(value, inplace=True)', try using 'df.method({col: value}, inplace=True)' or df[col] = df[col].method(value) instead, to perform the operation inplace on the original object.\n",
      "\n",
      "\n",
      "  X.age.fillna(value=X['age'].mean(),inplace=True)\n",
      "C:\\Users\\HP\\AppData\\Local\\Temp\\ipykernel_5948\\3228998420.py:6: SettingWithCopyWarning: \n",
      "A value is trying to be set on a copy of a slice from a DataFrame\n",
      "\n",
      "See the caveats in the documentation: https://pandas.pydata.org/pandas-docs/stable/user_guide/indexing.html#returning-a-view-versus-a-copy\n",
      "  X.age.fillna(value=X['age'].mean(),inplace=True)\n"
     ]
    },
    {
     "name": "stdout",
     "output_type": "stream",
     "text": [
      "best parameters: {'max_depth': 5, 'min_samples_split': 4, 'n_estimators': 100}\n",
      "best score: 0.8171450875432139\n"
     ]
    }
   ],
   "source": [
    "import pandas as pd\n",
    "import seaborn as sns \n",
    "df = sns.load_dataset(\"titanic\")\n",
    "X = df[['pclass', 'sex', 'age', 'sibsp', 'parch', 'fare']]\n",
    "y = df['survived']\n",
    "X.age.fillna(value=X['age'].mean(),inplace=True)\n",
    "X = pd.get_dummies(X, columns=['sex'])\n",
    "from sklearn.ensemble import RandomForestClassifier\n",
    "\n",
    "model = RandomForestClassifier()\n",
    "from sklearn.model_selection import GridSearchCV\n",
    "# bar bar is mei neighbors likhny ki bjY HM IS MEI NUMPY KO INSTALL KR KAH RANGE LGA SKTY HAI \n",
    "import numpy as np \n",
    "\n",
    "param_grid = {'min_samples_split':[2,3,4],'max_depth':[3,5],'n_estimators': [100]}\n",
    "# data ka hmny one to five percent lena hai range mei \n",
    "# and we use odd numbers in this so that we may know that which one is best for classification \n",
    "\n",
    "grid = GridSearchCV(model, param_grid, cv=5,scoring='precision')\n",
    "# is mei scoring ka isi trha sy hm preision, recall  aur sb check kr skty hai \n",
    "\n",
    "grid.fit(X, y)\n",
    "\n",
    "print(\"best parameters:\",grid.best_params_) \n",
    "print(\"best score:\",grid.best_score_)"
   ]
  },
  {
   "cell_type": "code",
   "execution_count": 1,
   "metadata": {},
   "outputs": [
    {
     "name": "stdout",
     "output_type": "stream",
     "text": [
      "{'bootstrap': True, 'ccp_alpha': 0.0, 'class_weight': None, 'criterion': 'gini', 'max_depth': None, 'max_features': 'sqrt', 'max_leaf_nodes': None, 'max_samples': None, 'min_impurity_decrease': 0.0, 'min_samples_leaf': 1, 'min_samples_split': 2, 'min_weight_fraction_leaf': 0.0, 'monotonic_cst': None, 'n_estimators': 100, 'n_jobs': None, 'oob_score': False, 'random_state': None, 'verbose': 0, 'warm_start': False}\n"
     ]
    }
   ],
   "source": [
    "from sklearn.ensemble import RandomForestClassifier\n",
    "\n",
    "model = RandomForestClassifier()\n",
    "\n",
    "# get the paprameters list\n",
    "\n",
    "print(model.get_params())\n"
   ]
  },
  {
   "cell_type": "markdown",
   "metadata": {},
   "source": [
    "# assignment hr algorithn ky best param check krny hai aur best param ki base pr bhi check krna hai best model "
   ]
  }
 ],
 "metadata": {
  "kernelspec": {
   "display_name": "Python 3",
   "language": "python",
   "name": "python3"
  },
  "language_info": {
   "codemirror_mode": {
    "name": "ipython",
    "version": 3
   },
   "file_extension": ".py",
   "mimetype": "text/x-python",
   "name": "python",
   "nbconvert_exporter": "python",
   "pygments_lexer": "ipython3",
   "version": "3.12.8"
  }
 },
 "nbformat": 4,
 "nbformat_minor": 2
}
